{
 "cells": [
  {
   "cell_type": "markdown",
   "id": "c8890de9",
   "metadata": {},
   "source": [
    "This script should run FUNGuild"
   ]
  },
  {
   "cell_type": "code",
   "execution_count": null,
   "id": "063ce1b1",
   "metadata": {},
   "outputs": [],
   "source": [
    "cd C:\\Users\\LabTop01\\Box\\GombashDocuments\\MarmosetData\\ITSWork\\Qiime2Outputs\\"
   ]
  },
  {
   "cell_type": "code",
   "execution_count": null,
   "id": "7e0794c4",
   "metadata": {},
   "outputs": [],
   "source": [
    "git clone https://github.com/UMNFuN/FUNGuild"
   ]
  },
  {
   "cell_type": "code",
   "execution_count": null,
   "id": "ca1c97b2",
   "metadata": {},
   "outputs": [],
   "source": [
    "cd FUNGuild/"
   ]
  },
  {
   "cell_type": "code",
   "execution_count": 1,
   "id": "9dadd46a",
   "metadata": {},
   "outputs": [
    {
     "ename": "SyntaxError",
     "evalue": "invalid syntax (3516535145.py, line 1)",
     "output_type": "error",
     "traceback": [
      "\u001b[1;36m  Cell \u001b[1;32mIn[1], line 1\u001b[1;36m\u001b[0m\n\u001b[1;33m    python FUNGuild.py taxa -otu ASVTable.txt -format tsv -column Taxonomy\u001b[0m\n\u001b[1;37m           ^\u001b[0m\n\u001b[1;31mSyntaxError\u001b[0m\u001b[1;31m:\u001b[0m invalid syntax\n"
     ]
    }
   ],
   "source": [
    "python FUNGuild.py taxa -otu ASVTable.txt -format tsv -column taxonomy"
   ]
  },
  {
   "cell_type": "markdown",
   "id": "453ab75e",
   "metadata": {},
   "source": [
    "The line below fails with an error message relating to 'charmap' codec can't encode character '\\u0142'\n",
    "I solved this by pulling all of the Aureobasidium out of the ASVTable.taxa.txt file\n",
    "This includes 14 rows, which are now in a separate file that can be manually looked up in their online database\n",
    "I looked it up, and one of the authors that they cite has a strange character in their name..."
   ]
  },
  {
   "cell_type": "code",
   "execution_count": null,
   "id": "b0100935",
   "metadata": {},
   "outputs": [],
   "source": [
    "python FUNGuild.py guild -taxa ASVTable.taxa.txt"
   ]
  },
  {
   "cell_type": "markdown",
   "id": "cf6318b5",
   "metadata": {},
   "source": [
    "This produces the output, and I added the 14 entries to the bottom after looking them up\n",
    "I may want to put them into the same sequence, but that is a minor thing"
   ]
  }
 ],
 "metadata": {
  "kernelspec": {
   "display_name": "Python 3 (ipykernel)",
   "language": "python",
   "name": "python3"
  },
  "language_info": {
   "codemirror_mode": {
    "name": "ipython",
    "version": 3
   },
   "file_extension": ".py",
   "mimetype": "text/x-python",
   "name": "python",
   "nbconvert_exporter": "python",
   "pygments_lexer": "ipython3",
   "version": "3.11.5"
  }
 },
 "nbformat": 4,
 "nbformat_minor": 5
}
