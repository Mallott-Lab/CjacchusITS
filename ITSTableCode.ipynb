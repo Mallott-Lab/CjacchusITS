{
 "cells": [
  {
   "cell_type": "markdown",
   "id": "2475be57",
   "metadata": {},
   "source": [
    "I am going to do some mycobiome work with samples from C. jacchus\n",
    "This uses some ITS data\n",
    "The commands are based on the atacama soils tutorial for Qiime2\n",
    "https://docs.qiime2.org/2023.9/tutorials/atacama-soils/\n",
    "Let's activate the environment"
   ]
  },
  {
   "cell_type": "code",
   "execution_count": null,
   "id": "db2fb882",
   "metadata": {},
   "outputs": [],
   "source": [
    "conda activate qiime2-amplicon-2023.9"
   ]
  },
  {
   "cell_type": "markdown",
   "id": "26bd2915",
   "metadata": {},
   "source": [
    "Time to make the relevant folders for the data\n",
    "We make a project folder, move into it, and make a folder for the sequences"
   ]
  },
  {
   "cell_type": "code",
   "execution_count": null,
   "id": "6b0d35ff",
   "metadata": {},
   "outputs": [],
   "source": [
    "mkdir CjacchusITS\n",
    "cd CjacchusITS\n",
    "mkdir emp-paired-end-sequences"
   ]
  },
  {
   "cell_type": "markdown",
   "id": "efb0f7cc",
   "metadata": {},
   "source": [
    "I downloaded the sequences manually and put them into the folder emp-paired-end-sequences\n",
    "The functions (tools?) in qiime require these to have specific names\n",
    "\n",
    "These are also .fastq files, not .fastq.gz files\n",
    "I am going to make them fastq.gz by zipping and then rename them\n",
    "\n",
    "ITS3_ITS4_pgarber_I1.fastq\n",
    "renamed to barcodes.fastq.gz after zipping\n",
    "\n",
    "ITS3_ITS4_pgarber_R1.fastq\n",
    "renamed forward.fastq.gz after zipping\n",
    "\n",
    "ITS3_ITS4_pgarber_R2.fastq\n",
    "Renamed reverse.fastq.gz after zipping\n",
    "\n",
    "I found the metadata file, it was .txt, I used Google sheets to make it .tsv (just in case that matters)\n",
    "called Cjacchus_ITS_metadata.tsv"
   ]
  },
  {
   "cell_type": "markdown",
   "id": "e230ef14",
   "metadata": {},
   "source": [
    "This code zips and renames the files\n",
    "It appears to get ride of the unzipped files, FYI"
   ]
  },
  {
   "cell_type": "code",
   "execution_count": null,
   "id": "5a318da6",
   "metadata": {},
   "outputs": [],
   "source": [
    "gzip ITS3_ITS4_pgarber_I1.fastq\n",
    "mv ITS3_ITS4_pgarber_I1.fastq.gz barcodes.fastq.gz\n",
    "gzip ITS3_ITS4_pgarber_R1.fastq\n",
    "mv ITS3_ITS4_pgarber_R1.fastq.gz forward.fastq.gz\n",
    "gzip ITS3_ITS4_pgarber_R2.fastq\n",
    "mv ITS3_ITS4_pgarber_R2.fastq.gz reverse.fastq.gz"
   ]
  },
  {
   "cell_type": "markdown",
   "id": "c7b4440e",
   "metadata": {},
   "source": [
    "Let's pull these data in as an artifact"
   ]
  },
  {
   "cell_type": "code",
   "execution_count": null,
   "id": "a334e3a3",
   "metadata": {},
   "outputs": [],
   "source": [
    "qiime tools import --type EMPPairedEndSequences --input-path emp-paired-end-sequences --output-path emp-paired-end-sequences.qza"
   ]
  },
  {
   "cell_type": "markdown",
   "id": "3be01b04",
   "metadata": {},
   "source": [
    "Now it is time to demultiplex the sequence reads. We are going to use the metadata and the column is called Barcode\n",
    "\n",
    "The function/tool needs a 12nt barcode, but these are only 10nt\n",
    "We used this flag to suppress that error correction\n",
    "--p-no-golay-error-correction\n",
    "\n",
    "We also need the flag below this line or we lose many samples\n",
    "--p-rev-comp-barcodes \n",
    "It may be important that the following line was already in the code\n",
    "--p-rev-comp-mapping-barcodes flag"
   ]
  },
  {
   "cell_type": "code",
   "execution_count": null,
   "id": "6bc7d606",
   "metadata": {},
   "outputs": [],
   "source": [
    "qiime demux emp-paired --m-barcodes-file Cjacchus_ITS_metadata.tsv --m-barcodes-column Barcode --p-rev-comp-mapping-barcodes --p-rev-comp-barcodes --p-no-golay-error-correction --i-seqs emp-paired-end-sequences.qza --o-per-sample-sequences demux-full.qza --o-error-correction-details demux-details.qza"
   ]
  },
  {
   "cell_type": "markdown",
   "id": "0af137ea",
   "metadata": {},
   "source": [
    "Let's summarize these"
   ]
  },
  {
   "cell_type": "code",
   "execution_count": null,
   "id": "24e1f0ec",
   "metadata": {},
   "outputs": [],
   "source": [
    "qiime demux summarize --i-demux-full.qza --o-visualization demux-full.qzv"
   ]
  },
  {
   "cell_type": "markdown",
   "id": "0e3d94f6",
   "metadata": {},
   "source": [
    "I have variable primer lengths and need to do cutadapt to trim the primers off\n",
    "These should be the same ITS primers from this code\n",
    "https://github.com/Mallott-Lab/MultiSpecies_ITS/blob/main/ITS.ipynb"
   ]
  },
  {
   "cell_type": "code",
   "execution_count": null,
   "id": "99614d0c",
   "metadata": {},
   "outputs": [],
   "source": [
    "qiime cutadapt trim-paired \\\n",
    "  --i-demultiplexed-sequences demux-full.qza \\\n",
    "  --p-adapter-f GCATATCAATAAGCGGAGGA \\\n",
    "  --p-front-f GCATCGATGAAGAACGCAGC \\\n",
    "  --p-adapter-r GCTGCGTTCTTCATCGATGC \\\n",
    "  --p-front-r TCCTCCGCTTATTGATATGC \\\n",
    "  --o-trimmed-sequences demux-trimmed.qza"
   ]
  },
  {
   "cell_type": "code",
   "execution_count": null,
   "id": "3708545b",
   "metadata": {},
   "outputs": [],
   "source": [
    "qiime demux summarize --i-data demux-trimmed.qza --o-visualization demux-trimmed.qzv"
   ]
  },
  {
   "cell_type": "markdown",
   "id": "a7f72235",
   "metadata": {},
   "source": [
    "Due to the way that this sequencing was done, we are using 230 for truncation length\n",
    "We don't need to truncate really, but the 230 accounts for the cut adapt that we did"
   ]
  },
  {
   "cell_type": "code",
   "execution_count": null,
   "id": "06553ce4",
   "metadata": {},
   "outputs": [],
   "source": [
    "qiime dada2 denoise-paired --i-demultiplexed-seqs demux-trimmed.qza --p-n-threads 6 --p-trim-left-f 0 --p-trim-left-r 0 --p-trunc-len-f 230 --p-trunc-len-r 230 --o-table table-trimmed.qza --o-representative-sequences rep-seqs-trimmed.qza --o-denoising-stats denoising-stats-trimmed.qza"
   ]
  },
  {
   "cell_type": "markdown",
   "id": "12ee7a2d",
   "metadata": {},
   "source": [
    "I am going to look at summaries of the artifacts produced by the above code"
   ]
  },
  {
   "cell_type": "code",
   "execution_count": null,
   "id": "30c1847f",
   "metadata": {},
   "outputs": [],
   "source": [
    "qiime feature-table summarize --i-table table-trimmed.qza --o-visualization table-trimmed.qzv --m-sample-metadata-file Cjacchus_ITS_metadata.tsv\n",
    "qiime feature-table tabulate-seqs --i-data rep-seqs-trimmed.qza --o-visualization rep-seqs-trimmed.qzv\n",
    "qiime metadata tabulate --m-input-file denoising-stats-trimmed.qza --o-visualization denoising-stats-trimmed.qzv"
   ]
  },
  {
   "cell_type": "markdown",
   "id": "98133576",
   "metadata": {},
   "source": [
    "Now it is time to assign taxonomy\n",
    "Liz built a classifier already, called classifier.qza\n",
    "I just need to bring it in and use it\n",
    "I downloaded it and dropped it into the appropriate folder"
   ]
  },
  {
   "cell_type": "code",
   "execution_count": null,
   "id": "9594d307",
   "metadata": {},
   "outputs": [],
   "source": [
    "qiime feature-classifier classify-sklearn \\\n",
    "  --i-classifier classifier.qza \\\n",
    "  --i-reads rep-seqs-trimmed.qza \\\n",
    "  --o-classification taxonomy.qza"
   ]
  },
  {
   "cell_type": "markdown",
   "id": "dcb96c79",
   "metadata": {},
   "source": [
    "Let's visualize this"
   ]
  },
  {
   "cell_type": "code",
   "execution_count": null,
   "id": "64548728",
   "metadata": {},
   "outputs": [],
   "source": [
    "qiime metadata tabulate \\\n",
    "  --m-input-file  taxonomy.qza \\\n",
    "  --o-visualization taxonomy.qzv"
   ]
  },
  {
   "cell_type": "markdown",
   "id": "179f3c34",
   "metadata": {},
   "source": [
    "I am going to make a bar plot now"
   ]
  },
  {
   "cell_type": "code",
   "execution_count": null,
   "id": "496c0c77",
   "metadata": {},
   "outputs": [],
   "source": [
    "qiime taxa barplot \\\n",
    "  --i-table table-trimmed.qza  \\\n",
    "  --i-taxonomy taxonomy.qza \\\n",
    "  --m-metadata-file Cjacchus_ITS_metadata.tsv \\\n",
    "  --o-visualization taxa-bar-plots.qzv"
   ]
  },
  {
   "cell_type": "markdown",
   "id": "98b75ed2",
   "metadata": {},
   "source": [
    "I have an interactive bar plot, there is a lot of \"fungi\" and \"fungi_unidentified\" stuff here\n",
    "Two samples have no reads, but not too many, I should make some rarefaction curves to see what depth I might want to go to"
   ]
  },
  {
   "cell_type": "code",
   "execution_count": null,
   "id": "a37f8a1f",
   "metadata": {},
   "outputs": [],
   "source": [
    "qiime diversity alpha-rarefaction --i-table table-trimmed.qza --p-max-depth 9000 --m-metadata-file Cjacchus_ITS_metadata.tsv --o-visualization alpha-rarefaction.qzv"
   ]
  }
 ],
 "metadata": {
  "kernelspec": {
   "display_name": "Python 3 (ipykernel)",
   "language": "python",
   "name": "python3"
  },
  "language_info": {
   "codemirror_mode": {
    "name": "ipython",
    "version": 3
   },
   "file_extension": ".py",
   "mimetype": "text/x-python",
   "name": "python",
   "nbconvert_exporter": "python",
   "pygments_lexer": "ipython3",
   "version": "3.11.5"
  }
 },
 "nbformat": 4,
 "nbformat_minor": 5
}
